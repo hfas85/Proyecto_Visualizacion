{
 "cells": [
  {
   "cell_type": "code",
   "execution_count": 1,
   "id": "af1dc1d0",
   "metadata": {},
   "outputs": [],
   "source": [
    "import pandas as pd\n",
    "import numpy as np\n",
    "import matplotlib.pyplot as plt\n",
    "import seaborn as sns\n",
    "from sklearn.linear_model import LinearRegression\n",
    "from sklearn.model_selection import train_test_split\n",
    "from sklearn.metrics import r2_score\n",
    "from sklearn.metrics import mean_squared_error"
   ]
  },
  {
   "cell_type": "code",
   "execution_count": 213,
   "id": "75afc8da",
   "metadata": {},
   "outputs": [],
   "source": [
    "df = pd.read_csv('https://raw.githubusercontent.com/patoram123/Proyecto_Visualizacion/main/datasets/public_bikes_2018/seul/SeoulBikeData.csv'\n",
    "                ,encoding='unicode escape')"
   ]
  },
  {
   "cell_type": "code",
   "execution_count": 211,
   "id": "570dd13f",
   "metadata": {},
   "outputs": [
    {
     "data": {
      "text/html": [
       "<div>\n",
       "<style scoped>\n",
       "    .dataframe tbody tr th:only-of-type {\n",
       "        vertical-align: middle;\n",
       "    }\n",
       "\n",
       "    .dataframe tbody tr th {\n",
       "        vertical-align: top;\n",
       "    }\n",
       "\n",
       "    .dataframe thead th {\n",
       "        text-align: right;\n",
       "    }\n",
       "</style>\n",
       "<table border=\"1\" class=\"dataframe\">\n",
       "  <thead>\n",
       "    <tr style=\"text-align: right;\">\n",
       "      <th></th>\n",
       "      <th>Date</th>\n",
       "      <th>Rented Bike Count</th>\n",
       "      <th>Hour</th>\n",
       "      <th>Temperature(°C)</th>\n",
       "      <th>Humidity(%)</th>\n",
       "      <th>Wind speed (m/s)</th>\n",
       "      <th>Visibility (10m)</th>\n",
       "      <th>Dew point temperature(°C)</th>\n",
       "      <th>Solar Radiation (MJ/m2)</th>\n",
       "      <th>Rainfall(mm)</th>\n",
       "      <th>Snowfall (cm)</th>\n",
       "    </tr>\n",
       "  </thead>\n",
       "  <tbody>\n",
       "    <tr>\n",
       "      <th>0</th>\n",
       "      <td>01/01/2018</td>\n",
       "      <td>4290</td>\n",
       "      <td>11.5</td>\n",
       "      <td>-1.283333</td>\n",
       "      <td>39.333333</td>\n",
       "      <td>1.454167</td>\n",
       "      <td>1894.833333</td>\n",
       "      <td>-13.866667</td>\n",
       "      <td>0.255833</td>\n",
       "      <td>0.000000</td>\n",
       "      <td>0.000000</td>\n",
       "    </tr>\n",
       "    <tr>\n",
       "      <th>1</th>\n",
       "      <td>01/02/2018</td>\n",
       "      <td>5377</td>\n",
       "      <td>11.5</td>\n",
       "      <td>-3.866667</td>\n",
       "      <td>44.000000</td>\n",
       "      <td>1.608333</td>\n",
       "      <td>1923.625000</td>\n",
       "      <td>-15.012500</td>\n",
       "      <td>0.337083</td>\n",
       "      <td>0.000000</td>\n",
       "      <td>0.904167</td>\n",
       "    </tr>\n",
       "    <tr>\n",
       "      <th>2</th>\n",
       "      <td>01/03/2018</td>\n",
       "      <td>5132</td>\n",
       "      <td>11.5</td>\n",
       "      <td>0.450000</td>\n",
       "      <td>64.208333</td>\n",
       "      <td>3.554167</td>\n",
       "      <td>1084.000000</td>\n",
       "      <td>-6.387500</td>\n",
       "      <td>0.747500</td>\n",
       "      <td>0.104167</td>\n",
       "      <td>0.000000</td>\n",
       "    </tr>\n",
       "    <tr>\n",
       "      <th>3</th>\n",
       "      <td>01/04/2018</td>\n",
       "      <td>17388</td>\n",
       "      <td>11.5</td>\n",
       "      <td>15.183333</td>\n",
       "      <td>68.916667</td>\n",
       "      <td>1.570833</td>\n",
       "      <td>831.833333</td>\n",
       "      <td>9.370833</td>\n",
       "      <td>0.302083</td>\n",
       "      <td>0.000000</td>\n",
       "      <td>0.000000</td>\n",
       "    </tr>\n",
       "    <tr>\n",
       "      <th>4</th>\n",
       "      <td>01/05/2018</td>\n",
       "      <td>26820</td>\n",
       "      <td>11.5</td>\n",
       "      <td>20.341667</td>\n",
       "      <td>72.791667</td>\n",
       "      <td>1.437500</td>\n",
       "      <td>456.458333</td>\n",
       "      <td>15.120833</td>\n",
       "      <td>0.517500</td>\n",
       "      <td>0.000000</td>\n",
       "      <td>0.000000</td>\n",
       "    </tr>\n",
       "  </tbody>\n",
       "</table>\n",
       "</div>"
      ],
      "text/plain": [
       "         Date  Rented Bike Count  Hour  Temperature(°C)  Humidity(%)  \\\n",
       "0  01/01/2018               4290  11.5        -1.283333    39.333333   \n",
       "1  01/02/2018               5377  11.5        -3.866667    44.000000   \n",
       "2  01/03/2018               5132  11.5         0.450000    64.208333   \n",
       "3  01/04/2018              17388  11.5        15.183333    68.916667   \n",
       "4  01/05/2018              26820  11.5        20.341667    72.791667   \n",
       "\n",
       "   Wind speed (m/s)  Visibility (10m)  Dew point temperature(°C)  \\\n",
       "0          1.454167       1894.833333                 -13.866667   \n",
       "1          1.608333       1923.625000                 -15.012500   \n",
       "2          3.554167       1084.000000                  -6.387500   \n",
       "3          1.570833        831.833333                   9.370833   \n",
       "4          1.437500        456.458333                  15.120833   \n",
       "\n",
       "   Solar Radiation (MJ/m2)  Rainfall(mm)  Snowfall (cm)  \n",
       "0                 0.255833      0.000000       0.000000  \n",
       "1                 0.337083      0.000000       0.904167  \n",
       "2                 0.747500      0.104167       0.000000  \n",
       "3                 0.302083      0.000000       0.000000  \n",
       "4                 0.517500      0.000000       0.000000  "
      ]
     },
     "execution_count": 211,
     "metadata": {},
     "output_type": "execute_result"
    }
   ],
   "source": [
    "df.head()"
   ]
  },
  {
   "cell_type": "code",
   "execution_count": 214,
   "id": "93524944",
   "metadata": {},
   "outputs": [],
   "source": [
    "df = df.groupby('Date', as_index=False).agg({'Rented Bike Count':'sum', 'Hour':'mean', 'Temperature(°C)':'mean',\n",
    "                                        'Humidity(%)':'mean', 'Wind speed (m/s)':'mean', \n",
    "                                        'Visibility (10m)':'mean', 'Dew point temperature(°C)':'mean',\n",
    "                                        'Solar Radiation (MJ/m2)':'mean', 'Rainfall(mm)':'mean', \n",
    "                                        'Snowfall (cm)':'mean'})"
   ]
  },
  {
   "cell_type": "code",
   "execution_count": 215,
   "id": "12b6cb61",
   "metadata": {},
   "outputs": [
    {
     "data": {
      "text/html": [
       "<div>\n",
       "<style scoped>\n",
       "    .dataframe tbody tr th:only-of-type {\n",
       "        vertical-align: middle;\n",
       "    }\n",
       "\n",
       "    .dataframe tbody tr th {\n",
       "        vertical-align: top;\n",
       "    }\n",
       "\n",
       "    .dataframe thead th {\n",
       "        text-align: right;\n",
       "    }\n",
       "</style>\n",
       "<table border=\"1\" class=\"dataframe\">\n",
       "  <thead>\n",
       "    <tr style=\"text-align: right;\">\n",
       "      <th></th>\n",
       "      <th>Date</th>\n",
       "      <th>Rented Bike Count</th>\n",
       "      <th>Hour</th>\n",
       "      <th>Temperature(°C)</th>\n",
       "      <th>Humidity(%)</th>\n",
       "      <th>Wind speed (m/s)</th>\n",
       "      <th>Visibility (10m)</th>\n",
       "      <th>Dew point temperature(°C)</th>\n",
       "      <th>Solar Radiation (MJ/m2)</th>\n",
       "      <th>Rainfall(mm)</th>\n",
       "      <th>Snowfall (cm)</th>\n",
       "    </tr>\n",
       "  </thead>\n",
       "  <tbody>\n",
       "    <tr>\n",
       "      <th>0</th>\n",
       "      <td>01/01/2018</td>\n",
       "      <td>4290</td>\n",
       "      <td>11.5</td>\n",
       "      <td>-1.283333</td>\n",
       "      <td>39.333333</td>\n",
       "      <td>1.454167</td>\n",
       "      <td>1894.833333</td>\n",
       "      <td>-13.866667</td>\n",
       "      <td>0.255833</td>\n",
       "      <td>0.000000</td>\n",
       "      <td>0.000000</td>\n",
       "    </tr>\n",
       "    <tr>\n",
       "      <th>1</th>\n",
       "      <td>01/02/2018</td>\n",
       "      <td>5377</td>\n",
       "      <td>11.5</td>\n",
       "      <td>-3.866667</td>\n",
       "      <td>44.000000</td>\n",
       "      <td>1.608333</td>\n",
       "      <td>1923.625000</td>\n",
       "      <td>-15.012500</td>\n",
       "      <td>0.337083</td>\n",
       "      <td>0.000000</td>\n",
       "      <td>0.904167</td>\n",
       "    </tr>\n",
       "    <tr>\n",
       "      <th>2</th>\n",
       "      <td>01/03/2018</td>\n",
       "      <td>5132</td>\n",
       "      <td>11.5</td>\n",
       "      <td>0.450000</td>\n",
       "      <td>64.208333</td>\n",
       "      <td>3.554167</td>\n",
       "      <td>1084.000000</td>\n",
       "      <td>-6.387500</td>\n",
       "      <td>0.747500</td>\n",
       "      <td>0.104167</td>\n",
       "      <td>0.000000</td>\n",
       "    </tr>\n",
       "    <tr>\n",
       "      <th>3</th>\n",
       "      <td>01/04/2018</td>\n",
       "      <td>17388</td>\n",
       "      <td>11.5</td>\n",
       "      <td>15.183333</td>\n",
       "      <td>68.916667</td>\n",
       "      <td>1.570833</td>\n",
       "      <td>831.833333</td>\n",
       "      <td>9.370833</td>\n",
       "      <td>0.302083</td>\n",
       "      <td>0.000000</td>\n",
       "      <td>0.000000</td>\n",
       "    </tr>\n",
       "    <tr>\n",
       "      <th>4</th>\n",
       "      <td>01/05/2018</td>\n",
       "      <td>26820</td>\n",
       "      <td>11.5</td>\n",
       "      <td>20.341667</td>\n",
       "      <td>72.791667</td>\n",
       "      <td>1.437500</td>\n",
       "      <td>456.458333</td>\n",
       "      <td>15.120833</td>\n",
       "      <td>0.517500</td>\n",
       "      <td>0.000000</td>\n",
       "      <td>0.000000</td>\n",
       "    </tr>\n",
       "  </tbody>\n",
       "</table>\n",
       "</div>"
      ],
      "text/plain": [
       "         Date  Rented Bike Count  Hour  Temperature(°C)  Humidity(%)  \\\n",
       "0  01/01/2018               4290  11.5        -1.283333    39.333333   \n",
       "1  01/02/2018               5377  11.5        -3.866667    44.000000   \n",
       "2  01/03/2018               5132  11.5         0.450000    64.208333   \n",
       "3  01/04/2018              17388  11.5        15.183333    68.916667   \n",
       "4  01/05/2018              26820  11.5        20.341667    72.791667   \n",
       "\n",
       "   Wind speed (m/s)  Visibility (10m)  Dew point temperature(°C)  \\\n",
       "0          1.454167       1894.833333                 -13.866667   \n",
       "1          1.608333       1923.625000                 -15.012500   \n",
       "2          3.554167       1084.000000                  -6.387500   \n",
       "3          1.570833        831.833333                   9.370833   \n",
       "4          1.437500        456.458333                  15.120833   \n",
       "\n",
       "   Solar Radiation (MJ/m2)  Rainfall(mm)  Snowfall (cm)  \n",
       "0                 0.255833      0.000000       0.000000  \n",
       "1                 0.337083      0.000000       0.904167  \n",
       "2                 0.747500      0.104167       0.000000  \n",
       "3                 0.302083      0.000000       0.000000  \n",
       "4                 0.517500      0.000000       0.000000  "
      ]
     },
     "execution_count": 215,
     "metadata": {},
     "output_type": "execute_result"
    }
   ],
   "source": [
    "df.head()"
   ]
  },
  {
   "cell_type": "code",
   "execution_count": 216,
   "id": "2798cd03",
   "metadata": {},
   "outputs": [
    {
     "data": {
      "text/plain": [
       "Index(['Date', 'Rented Bike Count', 'Hour', 'Temperature(°C)', 'Humidity(%)',\n",
       "       'Wind speed (m/s)', 'Visibility (10m)', 'Dew point temperature(°C)',\n",
       "       'Solar Radiation (MJ/m2)', 'Rainfall(mm)', 'Snowfall (cm)'],\n",
       "      dtype='object')"
      ]
     },
     "execution_count": 216,
     "metadata": {},
     "output_type": "execute_result"
    }
   ],
   "source": [
    "df.columns"
   ]
  },
  {
   "cell_type": "code",
   "execution_count": 217,
   "id": "bf9f56a3",
   "metadata": {},
   "outputs": [
    {
     "data": {
      "text/html": [
       "<div>\n",
       "<style scoped>\n",
       "    .dataframe tbody tr th:only-of-type {\n",
       "        vertical-align: middle;\n",
       "    }\n",
       "\n",
       "    .dataframe tbody tr th {\n",
       "        vertical-align: top;\n",
       "    }\n",
       "\n",
       "    .dataframe thead th {\n",
       "        text-align: right;\n",
       "    }\n",
       "</style>\n",
       "<table border=\"1\" class=\"dataframe\">\n",
       "  <thead>\n",
       "    <tr style=\"text-align: right;\">\n",
       "      <th></th>\n",
       "      <th>Rented Bike Count</th>\n",
       "      <th>Hour</th>\n",
       "      <th>Temperature(°C)</th>\n",
       "      <th>Humidity(%)</th>\n",
       "      <th>Wind speed (m/s)</th>\n",
       "      <th>Visibility (10m)</th>\n",
       "      <th>Dew point temperature(°C)</th>\n",
       "      <th>Solar Radiation (MJ/m2)</th>\n",
       "      <th>Rainfall(mm)</th>\n",
       "      <th>Snowfall (cm)</th>\n",
       "    </tr>\n",
       "  </thead>\n",
       "  <tbody>\n",
       "    <tr>\n",
       "      <th>Rented Bike Count</th>\n",
       "      <td>1.000000</td>\n",
       "      <td>NaN</td>\n",
       "      <td>0.699824</td>\n",
       "      <td>0.028158</td>\n",
       "      <td>-0.174859</td>\n",
       "      <td>0.145376</td>\n",
       "      <td>0.602648</td>\n",
       "      <td>0.684069</td>\n",
       "      <td>-0.214252</td>\n",
       "      <td>-0.240836</td>\n",
       "    </tr>\n",
       "    <tr>\n",
       "      <th>Hour</th>\n",
       "      <td>NaN</td>\n",
       "      <td>NaN</td>\n",
       "      <td>NaN</td>\n",
       "      <td>NaN</td>\n",
       "      <td>NaN</td>\n",
       "      <td>NaN</td>\n",
       "      <td>NaN</td>\n",
       "      <td>NaN</td>\n",
       "      <td>NaN</td>\n",
       "      <td>NaN</td>\n",
       "    </tr>\n",
       "    <tr>\n",
       "      <th>Temperature(°C)</th>\n",
       "      <td>0.699824</td>\n",
       "      <td>NaN</td>\n",
       "      <td>1.000000</td>\n",
       "      <td>0.401461</td>\n",
       "      <td>-0.258956</td>\n",
       "      <td>0.010578</td>\n",
       "      <td>0.962614</td>\n",
       "      <td>0.543482</td>\n",
       "      <td>0.139812</td>\n",
       "      <td>-0.267951</td>\n",
       "    </tr>\n",
       "    <tr>\n",
       "      <th>Humidity(%)</th>\n",
       "      <td>0.028158</td>\n",
       "      <td>NaN</td>\n",
       "      <td>0.401461</td>\n",
       "      <td>1.000000</td>\n",
       "      <td>-0.224168</td>\n",
       "      <td>-0.556480</td>\n",
       "      <td>0.630265</td>\n",
       "      <td>-0.273534</td>\n",
       "      <td>0.528241</td>\n",
       "      <td>0.064247</td>\n",
       "    </tr>\n",
       "    <tr>\n",
       "      <th>Wind speed (m/s)</th>\n",
       "      <td>-0.174859</td>\n",
       "      <td>NaN</td>\n",
       "      <td>-0.258956</td>\n",
       "      <td>-0.224168</td>\n",
       "      <td>1.000000</td>\n",
       "      <td>0.190390</td>\n",
       "      <td>-0.284104</td>\n",
       "      <td>0.107689</td>\n",
       "      <td>-0.081074</td>\n",
       "      <td>0.020792</td>\n",
       "    </tr>\n",
       "    <tr>\n",
       "      <th>Visibility (10m)</th>\n",
       "      <td>0.145376</td>\n",
       "      <td>NaN</td>\n",
       "      <td>0.010578</td>\n",
       "      <td>-0.556480</td>\n",
       "      <td>0.190390</td>\n",
       "      <td>1.000000</td>\n",
       "      <td>-0.145833</td>\n",
       "      <td>0.264634</td>\n",
       "      <td>-0.218284</td>\n",
       "      <td>-0.101296</td>\n",
       "    </tr>\n",
       "    <tr>\n",
       "      <th>Dew point temperature(°C)</th>\n",
       "      <td>0.602648</td>\n",
       "      <td>NaN</td>\n",
       "      <td>0.962614</td>\n",
       "      <td>0.630265</td>\n",
       "      <td>-0.284104</td>\n",
       "      <td>-0.145833</td>\n",
       "      <td>1.000000</td>\n",
       "      <td>0.377497</td>\n",
       "      <td>0.260644</td>\n",
       "      <td>-0.210823</td>\n",
       "    </tr>\n",
       "    <tr>\n",
       "      <th>Solar Radiation (MJ/m2)</th>\n",
       "      <td>0.684069</td>\n",
       "      <td>NaN</td>\n",
       "      <td>0.543482</td>\n",
       "      <td>-0.273534</td>\n",
       "      <td>0.107689</td>\n",
       "      <td>0.264634</td>\n",
       "      <td>0.377497</td>\n",
       "      <td>1.000000</td>\n",
       "      <td>-0.323231</td>\n",
       "      <td>-0.231491</td>\n",
       "    </tr>\n",
       "    <tr>\n",
       "      <th>Rainfall(mm)</th>\n",
       "      <td>-0.214252</td>\n",
       "      <td>NaN</td>\n",
       "      <td>0.139812</td>\n",
       "      <td>0.528241</td>\n",
       "      <td>-0.081074</td>\n",
       "      <td>-0.218284</td>\n",
       "      <td>0.260644</td>\n",
       "      <td>-0.323231</td>\n",
       "      <td>1.000000</td>\n",
       "      <td>-0.022493</td>\n",
       "    </tr>\n",
       "    <tr>\n",
       "      <th>Snowfall (cm)</th>\n",
       "      <td>-0.240836</td>\n",
       "      <td>NaN</td>\n",
       "      <td>-0.267951</td>\n",
       "      <td>0.064247</td>\n",
       "      <td>0.020792</td>\n",
       "      <td>-0.101296</td>\n",
       "      <td>-0.210823</td>\n",
       "      <td>-0.231491</td>\n",
       "      <td>-0.022493</td>\n",
       "      <td>1.000000</td>\n",
       "    </tr>\n",
       "  </tbody>\n",
       "</table>\n",
       "</div>"
      ],
      "text/plain": [
       "                           Rented Bike Count  Hour  Temperature(°C)  \\\n",
       "Rented Bike Count                   1.000000   NaN         0.699824   \n",
       "Hour                                     NaN   NaN              NaN   \n",
       "Temperature(°C)                     0.699824   NaN         1.000000   \n",
       "Humidity(%)                         0.028158   NaN         0.401461   \n",
       "Wind speed (m/s)                   -0.174859   NaN        -0.258956   \n",
       "Visibility (10m)                    0.145376   NaN         0.010578   \n",
       "Dew point temperature(°C)           0.602648   NaN         0.962614   \n",
       "Solar Radiation (MJ/m2)             0.684069   NaN         0.543482   \n",
       "Rainfall(mm)                       -0.214252   NaN         0.139812   \n",
       "Snowfall (cm)                      -0.240836   NaN        -0.267951   \n",
       "\n",
       "                           Humidity(%)  Wind speed (m/s)  Visibility (10m)  \\\n",
       "Rented Bike Count             0.028158         -0.174859          0.145376   \n",
       "Hour                               NaN               NaN               NaN   \n",
       "Temperature(°C)               0.401461         -0.258956          0.010578   \n",
       "Humidity(%)                   1.000000         -0.224168         -0.556480   \n",
       "Wind speed (m/s)             -0.224168          1.000000          0.190390   \n",
       "Visibility (10m)             -0.556480          0.190390          1.000000   \n",
       "Dew point temperature(°C)     0.630265         -0.284104         -0.145833   \n",
       "Solar Radiation (MJ/m2)      -0.273534          0.107689          0.264634   \n",
       "Rainfall(mm)                  0.528241         -0.081074         -0.218284   \n",
       "Snowfall (cm)                 0.064247          0.020792         -0.101296   \n",
       "\n",
       "                           Dew point temperature(°C)  Solar Radiation (MJ/m2)  \\\n",
       "Rented Bike Count                           0.602648                 0.684069   \n",
       "Hour                                             NaN                      NaN   \n",
       "Temperature(°C)                             0.962614                 0.543482   \n",
       "Humidity(%)                                 0.630265                -0.273534   \n",
       "Wind speed (m/s)                           -0.284104                 0.107689   \n",
       "Visibility (10m)                           -0.145833                 0.264634   \n",
       "Dew point temperature(°C)                   1.000000                 0.377497   \n",
       "Solar Radiation (MJ/m2)                     0.377497                 1.000000   \n",
       "Rainfall(mm)                                0.260644                -0.323231   \n",
       "Snowfall (cm)                              -0.210823                -0.231491   \n",
       "\n",
       "                           Rainfall(mm)  Snowfall (cm)  \n",
       "Rented Bike Count             -0.214252      -0.240836  \n",
       "Hour                                NaN            NaN  \n",
       "Temperature(°C)                0.139812      -0.267951  \n",
       "Humidity(%)                    0.528241       0.064247  \n",
       "Wind speed (m/s)              -0.081074       0.020792  \n",
       "Visibility (10m)              -0.218284      -0.101296  \n",
       "Dew point temperature(°C)      0.260644      -0.210823  \n",
       "Solar Radiation (MJ/m2)       -0.323231      -0.231491  \n",
       "Rainfall(mm)                   1.000000      -0.022493  \n",
       "Snowfall (cm)                 -0.022493       1.000000  "
      ]
     },
     "execution_count": 217,
     "metadata": {},
     "output_type": "execute_result"
    }
   ],
   "source": [
    "df.corr()"
   ]
  },
  {
   "cell_type": "code",
   "execution_count": 24,
   "id": "f0a106dc",
   "metadata": {},
   "outputs": [],
   "source": [
    "from sklearn.linear_model import Lasso\n",
    "from sklearn.linear_model import LassoCV\n",
    "from sklearn.preprocessing import StandardScaler"
   ]
  },
  {
   "cell_type": "code",
   "execution_count": 219,
   "id": "48cb7047",
   "metadata": {},
   "outputs": [],
   "source": [
    "X = df[['Temperature(°C)','Dew point temperature(°C)','Solar Radiation (MJ/m2)','Rainfall(mm)','Snowfall (cm)']]\n",
    "y = df['Rented Bike Count']\n",
    "\n",
    "X_train, X_test, y_train, y_test = train_test_split(X,\n",
    "                                                    y,\n",
    "                                                    train_size = 0.8,\n",
    "                                                    random_state = 37,\n",
    "                                                   shuffle      = True)"
   ]
  },
  {
   "cell_type": "code",
   "execution_count": 220,
   "id": "75f630f4",
   "metadata": {},
   "outputs": [],
   "source": [
    "scaler = StandardScaler()\n",
    "X_train_sc = scaler.fit_transform(X_train)\n",
    "X_test_sc = scaler.transform(X_test)"
   ]
  },
  {
   "cell_type": "code",
   "execution_count": 221,
   "id": "7fbe81bb",
   "metadata": {},
   "outputs": [
    {
     "data": {
      "text/plain": [
       "(0.6393601331491383, 0.6710389890869254)"
      ]
     },
     "execution_count": 221,
     "metadata": {},
     "output_type": "execute_result"
    }
   ],
   "source": [
    "lasso = Lasso(alpha=0.5)\n",
    "#\n",
    "# Fit the Lasso model\n",
    "#\n",
    "lasso.fit(X_train_sc, y_train)\n",
    "#\n",
    "# Create the model score\n",
    "#\n",
    "lasso.score(X_train_sc, y_train),lasso.score(X_test_sc, y_test) "
   ]
  },
  {
   "cell_type": "code",
   "execution_count": 222,
   "id": "05f3c9df",
   "metadata": {},
   "outputs": [
    {
     "data": {
      "text/plain": [
       "array([ 4074.54775683,  1222.25357331,  3592.04216035, -1755.1348238 ,\n",
       "        -302.01174485])"
      ]
     },
     "execution_count": 222,
     "metadata": {},
     "output_type": "execute_result"
    }
   ],
   "source": [
    "lasso.coef_"
   ]
  },
  {
   "cell_type": "code",
   "execution_count": 223,
   "id": "560c6d41",
   "metadata": {},
   "outputs": [
    {
     "name": "stdout",
     "output_type": "stream",
     "text": [
      "RMSE training set 6161.04\n",
      "RMSE test set 5809.67\n"
     ]
    }
   ],
   "source": [
    "# Training data\n",
    "pred_train = lasso.predict(X_train_sc)\n",
    "mse_train = mean_squared_error(y_train, pred_train,squared=False)\n",
    "print('RMSE training set', round(mse_train, 2))\n",
    "\n",
    "# Test data\n",
    "pred = lasso.predict(X_test_sc)\n",
    "mse_test =mean_squared_error(y_test, pred,squared=False)\n",
    "print('RMSE test set', round(mse_test, 2))"
   ]
  },
  {
   "cell_type": "code",
   "execution_count": 224,
   "id": "d511d6c2",
   "metadata": {},
   "outputs": [
    {
     "data": {
      "image/png": "[encoded data removed]",
      "text/plain": [
       "<Figure size 640x480 with 1 Axes>"
      ]
     },
     "metadata": {},
     "output_type": "display_data"
    }
   ],
   "source": [
    "alphas = np.linspace(0.01,500,100)\n",
    "lasso = Lasso(max_iter=10000)\n",
    "coefs = []\n",
    "\n",
    "for a in alphas:\n",
    "    lasso.set_params(alpha=a)\n",
    "    lasso.fit(X_train, y_train)\n",
    "    coefs.append(lasso.coef_)\n",
    "\n",
    "ax = plt.gca()\n",
    "\n",
    "ax.plot(alphas, coefs)\n",
    "ax.set_xscale('log')\n",
    "plt.axis('tight')\n",
    "plt.xlabel('alpha')\n",
    "plt.ylabel('Standardized Coefficients')\n",
    "plt.title('Lasso coefficients as a function of alpha');"
   ]
  },
  {
   "cell_type": "code",
   "execution_count": 225,
   "id": "c535da70",
   "metadata": {},
   "outputs": [
    {
     "data": {
      "text/html": [
       "<style>#sk-container-id-20 {color: black;background-color: white;}#sk-container-id-20 pre{padding: 0;}#sk-container-id-20 div.sk-toggleable {background-color: white;}#sk-container-id-20 label.sk-toggleable__label {cursor: pointer;display: block;width: 100%;margin-bottom: 0;padding: 0.3em;box-sizing: border-box;text-align: center;}#sk-container-id-20 label.sk-toggleable__label-arrow:before {content: \"▸\";float: left;margin-right: 0.25em;color: #696969;}#sk-container-id-20 label.sk-toggleable__label-arrow:hover:before {color: black;}#sk-container-id-20 div.sk-estimator:hover label.sk-toggleable__label-arrow:before {color: black;}#sk-container-id-20 div.sk-toggleable__content {max-height: 0;max-width: 0;overflow: hidden;text-align: left;background-color: #f0f8ff;}#sk-container-id-20 div.sk-toggleable__content pre {margin: 0.2em;color: black;border-radius: 0.25em;background-color: #f0f8ff;}#sk-container-id-20 input.sk-toggleable__control:checked~div.sk-toggleable__content {max-height: 200px;max-width: 100%;overflow: auto;}#sk-container-id-20 input.sk-toggleable__control:checked~label.sk-toggleable__label-arrow:before {content: \"▾\";}#sk-container-id-20 div.sk-estimator input.sk-toggleable__control:checked~label.sk-toggleable__label {background-color: #d4ebff;}#sk-container-id-20 div.sk-label input.sk-toggleable__control:checked~label.sk-toggleable__label {background-color: #d4ebff;}#sk-container-id-20 input.sk-hidden--visually {border: 0;clip: rect(1px 1px 1px 1px);clip: rect(1px, 1px, 1px, 1px);height: 1px;margin: -1px;overflow: hidden;padding: 0;position: absolute;width: 1px;}#sk-container-id-20 div.sk-estimator {font-family: monospace;background-color: #f0f8ff;border: 1px dotted black;border-radius: 0.25em;box-sizing: border-box;margin-bottom: 0.5em;}#sk-container-id-20 div.sk-estimator:hover {background-color: #d4ebff;}#sk-container-id-20 div.sk-parallel-item::after {content: \"\";width: 100%;border-bottom: 1px solid gray;flex-grow: 1;}#sk-container-id-20 div.sk-label:hover label.sk-toggleable__label {background-color: #d4ebff;}#sk-container-id-20 div.sk-serial::before {content: \"\";position: absolute;border-left: 1px solid gray;box-sizing: border-box;top: 0;bottom: 0;left: 50%;z-index: 0;}#sk-container-id-20 div.sk-serial {display: flex;flex-direction: column;align-items: center;background-color: white;padding-right: 0.2em;padding-left: 0.2em;position: relative;}#sk-container-id-20 div.sk-item {position: relative;z-index: 1;}#sk-container-id-20 div.sk-parallel {display: flex;align-items: stretch;justify-content: center;background-color: white;position: relative;}#sk-container-id-20 div.sk-item::before, #sk-container-id-20 div.sk-parallel-item::before {content: \"\";position: absolute;border-left: 1px solid gray;box-sizing: border-box;top: 0;bottom: 0;left: 50%;z-index: -1;}#sk-container-id-20 div.sk-parallel-item {display: flex;flex-direction: column;z-index: 1;position: relative;background-color: white;}#sk-container-id-20 div.sk-parallel-item:first-child::after {align-self: flex-end;width: 50%;}#sk-container-id-20 div.sk-parallel-item:last-child::after {align-self: flex-start;width: 50%;}#sk-container-id-20 div.sk-parallel-item:only-child::after {width: 0;}#sk-container-id-20 div.sk-dashed-wrapped {border: 1px dashed gray;margin: 0 0.4em 0.5em 0.4em;box-sizing: border-box;padding-bottom: 0.4em;background-color: white;}#sk-container-id-20 div.sk-label label {font-family: monospace;font-weight: bold;display: inline-block;line-height: 1.2em;}#sk-container-id-20 div.sk-label-container {text-align: center;}#sk-container-id-20 div.sk-container {/* jupyter's `normalize.less` sets `[hidden] { display: none; }` but bootstrap.min.css set `[hidden] { display: none !important; }` so we also need the `!important` here to be able to override the default hidden behavior on the sphinx rendered scikit-learn.org. See: https://github.com/scikit-learn/scikit-learn/issues/21755 */display: inline-block !important;position: relative;}#sk-container-id-20 div.sk-text-repr-fallback {display: none;}</style><div id=\"sk-container-id-20\" class=\"sk-top-container\"><div class=\"sk-text-repr-fallback\"><pre>LassoCV(cv=5, max_iter=100000, random_state=37)</pre><b>In a Jupyter environment, please rerun this cell to show the HTML representation or trust the notebook. <br />On GitHub, the HTML representation is unable to render, please try loading this page with nbviewer.org.</b></div><div class=\"sk-container\" hidden><div class=\"sk-item\"><div class=\"sk-estimator sk-toggleable\"><input class=\"sk-toggleable__control sk-hidden--visually\" id=\"sk-estimator-id-20\" type=\"checkbox\" checked><label for=\"sk-estimator-id-20\" class=\"sk-toggleable__label sk-toggleable__label-arrow\">LassoCV</label><div class=\"sk-toggleable__content\"><pre>LassoCV(cv=5, max_iter=100000, random_state=37)</pre></div></div></div></div></div>"
      ],
      "text/plain": [
       "LassoCV(cv=5, max_iter=100000, random_state=37)"
      ]
     },
     "execution_count": 225,
     "metadata": {},
     "output_type": "execute_result"
    }
   ],
   "source": [
    "# Lasso with 5 fold cross-validation\n",
    "model = LassoCV(cv=5, random_state=37, max_iter=100000)\n",
    "\n",
    "# Fit model\n",
    "model.fit(X_train_sc, y_train)"
   ]
  },
  {
   "cell_type": "code",
   "execution_count": 247,
   "id": "7a37ea2d",
   "metadata": {},
   "outputs": [
    {
     "data": {
      "text/plain": [
       "31.14334527631556"
      ]
     },
     "execution_count": 247,
     "metadata": {},
     "output_type": "execute_result"
    }
   ],
   "source": [
    "model.alpha_"
   ]
  },
  {
   "cell_type": "code",
   "execution_count": 227,
   "id": "63e11f74",
   "metadata": {},
   "outputs": [
    {
     "data": {
      "text/html": [
       "<style>#sk-container-id-21 {color: black;background-color: white;}#sk-container-id-21 pre{padding: 0;}#sk-container-id-21 div.sk-toggleable {background-color: white;}#sk-container-id-21 label.sk-toggleable__label {cursor: pointer;display: block;width: 100%;margin-bottom: 0;padding: 0.3em;box-sizing: border-box;text-align: center;}#sk-container-id-21 label.sk-toggleable__label-arrow:before {content: \"▸\";float: left;margin-right: 0.25em;color: #696969;}#sk-container-id-21 label.sk-toggleable__label-arrow:hover:before {color: black;}#sk-container-id-21 div.sk-estimator:hover label.sk-toggleable__label-arrow:before {color: black;}#sk-container-id-21 div.sk-toggleable__content {max-height: 0;max-width: 0;overflow: hidden;text-align: left;background-color: #f0f8ff;}#sk-container-id-21 div.sk-toggleable__content pre {margin: 0.2em;color: black;border-radius: 0.25em;background-color: #f0f8ff;}#sk-container-id-21 input.sk-toggleable__control:checked~div.sk-toggleable__content {max-height: 200px;max-width: 100%;overflow: auto;}#sk-container-id-21 input.sk-toggleable__control:checked~label.sk-toggleable__label-arrow:before {content: \"▾\";}#sk-container-id-21 div.sk-estimator input.sk-toggleable__control:checked~label.sk-toggleable__label {background-color: #d4ebff;}#sk-container-id-21 div.sk-label input.sk-toggleable__control:checked~label.sk-toggleable__label {background-color: #d4ebff;}#sk-container-id-21 input.sk-hidden--visually {border: 0;clip: rect(1px 1px 1px 1px);clip: rect(1px, 1px, 1px, 1px);height: 1px;margin: -1px;overflow: hidden;padding: 0;position: absolute;width: 1px;}#sk-container-id-21 div.sk-estimator {font-family: monospace;background-color: #f0f8ff;border: 1px dotted black;border-radius: 0.25em;box-sizing: border-box;margin-bottom: 0.5em;}#sk-container-id-21 div.sk-estimator:hover {background-color: #d4ebff;}#sk-container-id-21 div.sk-parallel-item::after {content: \"\";width: 100%;border-bottom: 1px solid gray;flex-grow: 1;}#sk-container-id-21 div.sk-label:hover label.sk-toggleable__label {background-color: #d4ebff;}#sk-container-id-21 div.sk-serial::before {content: \"\";position: absolute;border-left: 1px solid gray;box-sizing: border-box;top: 0;bottom: 0;left: 50%;z-index: 0;}#sk-container-id-21 div.sk-serial {display: flex;flex-direction: column;align-items: center;background-color: white;padding-right: 0.2em;padding-left: 0.2em;position: relative;}#sk-container-id-21 div.sk-item {position: relative;z-index: 1;}#sk-container-id-21 div.sk-parallel {display: flex;align-items: stretch;justify-content: center;background-color: white;position: relative;}#sk-container-id-21 div.sk-item::before, #sk-container-id-21 div.sk-parallel-item::before {content: \"\";position: absolute;border-left: 1px solid gray;box-sizing: border-box;top: 0;bottom: 0;left: 50%;z-index: -1;}#sk-container-id-21 div.sk-parallel-item {display: flex;flex-direction: column;z-index: 1;position: relative;background-color: white;}#sk-container-id-21 div.sk-parallel-item:first-child::after {align-self: flex-end;width: 50%;}#sk-container-id-21 div.sk-parallel-item:last-child::after {align-self: flex-start;width: 50%;}#sk-container-id-21 div.sk-parallel-item:only-child::after {width: 0;}#sk-container-id-21 div.sk-dashed-wrapped {border: 1px dashed gray;margin: 0 0.4em 0.5em 0.4em;box-sizing: border-box;padding-bottom: 0.4em;background-color: white;}#sk-container-id-21 div.sk-label label {font-family: monospace;font-weight: bold;display: inline-block;line-height: 1.2em;}#sk-container-id-21 div.sk-label-container {text-align: center;}#sk-container-id-21 div.sk-container {/* jupyter's `normalize.less` sets `[hidden] { display: none; }` but bootstrap.min.css set `[hidden] { display: none !important; }` so we also need the `!important` here to be able to override the default hidden behavior on the sphinx rendered scikit-learn.org. See: https://github.com/scikit-learn/scikit-learn/issues/21755 */display: inline-block !important;position: relative;}#sk-container-id-21 div.sk-text-repr-fallback {display: none;}</style><div id=\"sk-container-id-21\" class=\"sk-top-container\"><div class=\"sk-text-repr-fallback\"><pre>Lasso(alpha=31.14334527631556)</pre><b>In a Jupyter environment, please rerun this cell to show the HTML representation or trust the notebook. <br />On GitHub, the HTML representation is unable to render, please try loading this page with nbviewer.org.</b></div><div class=\"sk-container\" hidden><div class=\"sk-item\"><div class=\"sk-estimator sk-toggleable\"><input class=\"sk-toggleable__control sk-hidden--visually\" id=\"sk-estimator-id-21\" type=\"checkbox\" checked><label for=\"sk-estimator-id-21\" class=\"sk-toggleable__label sk-toggleable__label-arrow\">Lasso</label><div class=\"sk-toggleable__content\"><pre>Lasso(alpha=31.14334527631556)</pre></div></div></div></div></div>"
      ],
      "text/plain": [
       "Lasso(alpha=31.14334527631556)"
      ]
     },
     "execution_count": 227,
     "metadata": {},
     "output_type": "execute_result"
    }
   ],
   "source": [
    "# Set best alpha\n",
    "lasso_best = Lasso(alpha=model.alpha_)\n",
    "lasso_best.fit(X_train_sc, y_train)"
   ]
  },
  {
   "cell_type": "code",
   "execution_count": 228,
   "id": "625f35ef",
   "metadata": {},
   "outputs": [
    {
     "name": "stdout",
     "output_type": "stream",
     "text": [
      "[(4223.741410569448, 'Temperature(°C)'), (1051.8886289931647, 'Dew point temperature(°C)'), (3569.32898151679, 'Solar Radiation (MJ/m2)'), (-1707.4725232964863, 'Rainfall(mm)'), (-270.770241764675, 'Snowfall (cm)')]\n"
     ]
    }
   ],
   "source": [
    "print(list(zip(lasso_best.coef_, X)))"
   ]
  },
  {
   "cell_type": "code",
   "execution_count": 229,
   "id": "2e32ad73",
   "metadata": {},
   "outputs": [
    {
     "name": "stdout",
     "output_type": "stream",
     "text": [
      "R squared training set 63.93\n",
      "R squared test set 67.23\n"
     ]
    }
   ],
   "source": [
    "print('R squared training set', round(lasso_best.score(X_train_sc, y_train)*100, 2))\n",
    "print('R squared test set', round(lasso_best.score(X_test_sc, y_test)*100, 2))"
   ]
  },
  {
   "cell_type": "code",
   "execution_count": 239,
   "id": "6e52b353",
   "metadata": {},
   "outputs": [
    {
     "name": "stdout",
     "output_type": "stream",
     "text": [
      "RMSE test set 5798.826771900098\n"
     ]
    }
   ],
   "source": [
    "print('RMSE test set', mean_squared_error(y_test, lasso_best.predict(X_test_sc),squared = False))"
   ]
  },
  {
   "cell_type": "code",
   "execution_count": 249,
   "id": "65eef8d2",
   "metadata": {},
   "outputs": [
    {
     "data": {
      "image/png": "[encoded data removed]",
      "text/plain": [
       "<Figure size 640x480 with 1 Axes>"
      ]
     },
     "metadata": {},
     "output_type": "display_data"
    }
   ],
   "source": [
    "plt.semilogx(model.alphas_, np.sqrt(model.mse_path_), \":\")\n",
    "plt.plot(\n",
    "    model.alphas_ ,\n",
    "    np.sqrt(model.mse_path_).mean(axis=-1),\n",
    "    \"k\",\n",
    "    label=\"Average across the folds\",\n",
    "    linewidth=2,\n",
    ")\n",
    "plt.axvline(\n",
    "    model.alpha_, linestyle=\"--\", color=\"k\", label=\"alpha: CV estimate\"\n",
    ")\n",
    "\n",
    "plt.legend()\n",
    "plt.xlabel(\"alphas\")\n",
    "plt.ylabel(\"Root Mean square error\")\n",
    "plt.title(\"Root Mean square error on each fold\")\n",
    "plt.axis(\"tight\")\n",
    "\n",
    "ymin, ymax = 4000, 10000\n",
    "plt.ylim(ymin, ymax);"
   ]
  },
  {
   "cell_type": "code",
   "execution_count": null,
   "id": "291511fa",
   "metadata": {},
   "outputs": [],
   "source": []
  }
 ],
 "metadata": {
  "kernelspec": {
   "display_name": "Python 3 (ipykernel)",
   "language": "python",
   "name": "python3"
  },
  "language_info": {
   "codemirror_mode": {
    "name": "ipython",
    "version": 3
   },
   "file_extension": ".py",
   "mimetype": "text/x-python",
   "name": "python",
   "nbconvert_exporter": "python",
   "pygments_lexer": "ipython3",
   "version": "3.9.12"
  }
 },
 "nbformat": 4,
 "nbformat_minor": 5
}
